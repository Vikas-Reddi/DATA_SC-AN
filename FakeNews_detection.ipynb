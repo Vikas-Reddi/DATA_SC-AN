{
  "cells": [
    {
      "cell_type": "code",
      "execution_count": 51,
      "metadata": {
        "id": "f3rQVVlVpxJy"
      },
      "outputs": [],
      "source": [
        "import pandas as pd\n",
        "import numpy as np\n",
        "import matplotlib.pyplot as plt\n",
        "from sklearn.linear_model import LinearRegression"
      ]
    },
    {
      "cell_type": "code",
      "execution_count": 71,
      "metadata": {
        "id": "lcC-YFtIrcll",
        "colab": {
          "base_uri": "https://localhost:8080/"
        },
        "outputId": "ca9fa5cf-ab11-49ed-bd28-4f6fbaddf92b"
      },
      "outputs": [
        {
          "output_type": "stream",
          "name": "stdout",
          "text": [
            "                                               title  \\\n",
            "0   Donald Trump Sends Out Embarrassing New Year’...   \n",
            "1   Drunk Bragging Trump Staffer Started Russian ...   \n",
            "2   Sheriff David Clarke Becomes An Internet Joke...   \n",
            "3   Trump Is So Obsessed He Even Has Obama’s Name...   \n",
            "4   Pope Francis Just Called Out Donald Trump Dur...   \n",
            "\n",
            "                                                text  label  \n",
            "0  Donald Trump just couldn t wish all Americans ...      0  \n",
            "1  House Intelligence Committee Chairman Devin Nu...      0  \n",
            "2  On Friday, it was revealed that former Milwauk...      0  \n",
            "3  On Christmas day, Donald Trump announced that ...      0  \n",
            "4  Pope Francis used his annual Christmas Day mes...      0  \n"
          ]
        }
      ],
      "source": [
        "# read the file fakeandtrue_news_dataset\n",
        "\n",
        "\n",
        "# read the file fakeandtrue_news_dataset, using the Python engine and handling errors\n",
        "news = pd.read_csv('/content/sample_data/fakeandTrue_news_dataset.csv')\n",
        "# or on_bad_lines='skip' to skip problematic lines\n",
        "\n",
        "print(news.head())"
      ]
    },
    {
      "cell_type": "code",
      "execution_count": 72,
      "metadata": {
        "colab": {
          "base_uri": "https://localhost:8080/"
        },
        "id": "8PHotmjCjkJo",
        "outputId": "7266c4c2-0eaa-439b-e8e6-57169c36b71c"
      },
      "outputs": [
        {
          "output_type": "stream",
          "name": "stdout",
          "text": [
            "                                                   title  \\\n",
            "24066  Aditi Rao Hydari and Siddharth get married in ...   \n",
            "24067  Government deallocates coal block in Jharkhand...   \n",
            "24068  View: Dealing with bureaucracy will be a chall...   \n",
            "24069    Buy RBL Bank, price target Rs 360: Kunal Bothra   \n",
            "24070  ATF cost up 2.6%; non-subsidised LPG price hik...   \n",
            "\n",
            "                                                    text  label  \n",
            "24066  A Look At Their Love Story\\n\\n\\n\\nAaand they a...      1  \n",
            "24067  New Delhi: The government has cancelled the al...      1  \n",
            "24068  General Bipin Rawat took over as the country\u0019s...      1  \n",
            "24069  Independent Analyst Kunal Bothra has a buy cal...      1  \n",
            "24070  Jet fuel or ATF price was on Wednesday hiked b...      1  \n",
            "label\n",
            "1    54344\n",
            "0    53284\n",
            "Name: count, dtype: int64\n"
          ]
        }
      ],
      "source": [
        "# extract real and fake news from news\n",
        "news = news.drop_duplicates()\n",
        "real_news = news[news['label'] == 1]\n",
        "fake_news = news[news['label'] == 0]\n",
        "\n",
        "\n",
        "\n",
        "\n",
        "# concatinate both\n",
        "news = pd.concat([real_news, fake_news])\n",
        "print(news.head())\n",
        "\n",
        "\n",
        "# print count of label\n",
        "print(news['label'].value_counts())"
      ]
    },
    {
      "cell_type": "code",
      "execution_count": 73,
      "metadata": {
        "colab": {
          "base_uri": "https://localhost:8080/"
        },
        "id": "0B6EWbjpsl1a",
        "outputId": "1cd65b65-c4da-4e54-bc94-9e18091b318b"
      },
      "outputs": [
        {
          "output_type": "stream",
          "name": "stdout",
          "text": [
            "                                                   title  \\\n",
            "24066  Aditi Rao Hydari and Siddharth get married in ...   \n",
            "24067  Government deallocates coal block in Jharkhand...   \n",
            "24068  View: Dealing with bureaucracy will be a chall...   \n",
            "24069    Buy RBL Bank, price target Rs 360: Kunal Bothra   \n",
            "24070  ATF cost up 2.6%; non-subsidised LPG price hik...   \n",
            "\n",
            "                                                    text  label  \n",
            "24066  A Look At Their Love Story\\n\\n\\n\\nAaand they a...      1  \n",
            "24067  New Delhi: The government has cancelled the al...      1  \n",
            "24068  General Bipin Rawat took over as the country\u0019s...      1  \n",
            "24069  Independent Analyst Kunal Bothra has a buy cal...      1  \n",
            "24070  Jet fuel or ATF price was on Wednesday hiked b...      1  \n"
          ]
        }
      ],
      "source": [
        "# preprocess title and text from news for vectorization and create it as a function\n",
        "import re\n",
        "import string\n",
        "def clean_text(text):\n",
        "    return re.sub(f\"[{re.escape(string.punctuation)}]\", '', text.lower())\n",
        "\n",
        "# convert data text into string\n",
        "news['text'] = news['text'].astype(str)\n",
        "# apply the cleaning function to 'title', 'text', and 'date' columns\n",
        "\n",
        "print(news.head())\n"
      ]
    },
    {
      "cell_type": "code",
      "execution_count": 74,
      "metadata": {
        "colab": {
          "base_uri": "https://localhost:8080/"
        },
        "id": "G8tIwUjqSTYs",
        "outputId": "fa9c2944-6834-44d0-d10a-9e90e859fe17"
      },
      "outputs": [
        {
          "output_type": "stream",
          "name": "stdout",
          "text": [
            "label\n",
            "1    54344\n",
            "0    53284\n",
            "Name: count, dtype: int64\n"
          ]
        }
      ],
      "source": [
        "# remove duplicates out of the news\n",
        "news = news.drop_duplicates()\n",
        "#print the amount of lable\n",
        "print(news['label'].value_counts())"
      ]
    },
    {
      "cell_type": "code",
      "source": [
        "!pip install textstat"
      ],
      "metadata": {
        "colab": {
          "base_uri": "https://localhost:8080/"
        },
        "id": "uhB15Ln5g2n5",
        "outputId": "9b116c36-93f8-45a7-97ed-4a87a9bc6067"
      },
      "execution_count": 6,
      "outputs": [
        {
          "output_type": "stream",
          "name": "stdout",
          "text": [
            "Requirement already satisfied: textstat in /usr/local/lib/python3.10/dist-packages (0.7.4)\n",
            "Requirement already satisfied: pyphen in /usr/local/lib/python3.10/dist-packages (from textstat) (0.17.0)\n",
            "Requirement already satisfied: setuptools in /usr/local/lib/python3.10/dist-packages (from textstat) (75.1.0)\n"
          ]
        }
      ]
    },
    {
      "cell_type": "code",
      "source": [
        "# get n gram frequency , sentimant analysis and readability score for above news text with NLTK\n",
        "import nltk\n",
        "from nltk.sentiment import SentimentIntensityAnalyzer\n",
        "from textstat import flesch_reading_ease\n",
        "# download the VADER lexicon\n",
        "\n",
        "nltk.download('vader_lexicon')\n",
        "# create a sentiment analyzer\n",
        "sid = SentimentIntensityAnalyzer()\n",
        "#analise news text\n",
        "news['sentiment_score'] = news['text'].apply(lambda x: sid.polarity_scores(x)['compound'])\n",
        "news['readability_score'] = news['text'].apply(lambda x: flesch_reading_ease(x))\n",
        "\n"
      ],
      "metadata": {
        "colab": {
          "base_uri": "https://localhost:8080/"
        },
        "id": "Z6jYh0R1dGR9",
        "outputId": "53b5250b-1c7e-4e36-8fb5-14c9541fb937"
      },
      "execution_count": 55,
      "outputs": [
        {
          "output_type": "stream",
          "name": "stderr",
          "text": [
            "[nltk_data] Downloading package vader_lexicon to /root/nltk_data...\n",
            "[nltk_data]   Package vader_lexicon is already up-to-date!\n"
          ]
        }
      ]
    },
    {
      "cell_type": "code",
      "source": [
        "print(news.head())"
      ],
      "metadata": {
        "colab": {
          "base_uri": "https://localhost:8080/"
        },
        "id": "20gVwgUJso77",
        "outputId": "ad6c4950-83a6-4258-948d-d10197cdb96f"
      },
      "execution_count": 35,
      "outputs": [
        {
          "output_type": "stream",
          "name": "stdout",
          "text": [
            "                                                   title  \\\n",
            "24066  Aditi Rao Hydari and Siddharth get married in ...   \n",
            "24067  Government deallocates coal block in Jharkhand...   \n",
            "24068  View: Dealing with bureaucracy will be a chall...   \n",
            "24069    Buy RBL Bank, price target Rs 360: Kunal Bothra   \n",
            "24070  ATF cost up 2.6%; non-subsidised LPG price hik...   \n",
            "\n",
            "                                                    text  label  \\\n",
            "24066  A Look At Their Love Story\\n\\n\\n\\nAaand they a...      1   \n",
            "24067  New Delhi: The government has cancelled the al...      1   \n",
            "24068  General Bipin Rawat took over as the country\u0019s...      1   \n",
            "24069  Independent Analyst Kunal Bothra has a buy cal...      1   \n",
            "24070  Jet fuel or ATF price was on Wednesday hiked b...      1   \n",
            "\n",
            "       sentiment_score  readability_score  \n",
            "24066           0.9952              60.85  \n",
            "24067          -0.7579              42.55  \n",
            "24068           0.9955              43.73  \n",
            "24069           0.9753              79.87  \n",
            "24070           0.6369              75.91  \n"
          ]
        }
      ]
    },
    {
      "cell_type": "code",
      "source": [
        "# n gram anallysis for text in news\n",
        "from nltk.util import ngrams\n",
        "from collections import Counter\n",
        "# perso anallysis on text in news\n",
        "def get_ngrams(text, n):\n",
        "    tokens = text.split()\n",
        "    return list(ngrams(tokens, n))\n",
        "# get bigrams\n",
        "news['bigrams'] = news['text'].apply(lambda x: get_ngrams(x, 2))\n",
        "# get trigrams\n",
        "news['trigrams'] = news['text'].apply(lambda x: get_ngrams(x, 3))"
      ],
      "metadata": {
        "id": "1BPyQcBenTDw"
      },
      "execution_count": null,
      "outputs": []
    },
    {
      "cell_type": "code",
      "execution_count": 75,
      "metadata": {
        "colab": {
          "base_uri": "https://localhost:8080/"
        },
        "id": "m1MpyPT7Sp5x",
        "outputId": "ddf35e9e-4562-4911-f744-2fa0b2ccc394"
      },
      "outputs": [
        {
          "output_type": "stream",
          "name": "stdout",
          "text": [
            "label\n",
            "1    53825\n",
            "0    53284\n",
            "Name: count, dtype: int64\n"
          ]
        }
      ],
      "source": [
        "# remove all news with empty title or text\n",
        "news = news.dropna(subset=['title', 'text'])\n",
        "# print count of 1 and 0\n",
        "print(news['label'].value_counts())\n",
        "# sort news data by label\n"
      ]
    },
    {
      "cell_type": "code",
      "execution_count": 57,
      "metadata": {
        "id": "MTFyDBJVnbkl"
      },
      "outputs": [],
      "source": [
        "# layble from news\n",
        "lable = news['label']\n"
      ]
    },
    {
      "cell_type": "code",
      "execution_count": 58,
      "metadata": {
        "id": "OyAGGuVKaoj2"
      },
      "outputs": [],
      "source": [
        "# prompt: # get features for text from news\n",
        "\n",
        "from sklearn.feature_extraction.text import TfidfVectorizer\n",
        "\n",
        "\n",
        "vectorizer = TfidfVectorizer()\n",
        "tfidf_text = vectorizer.fit_transform(news['text'])\n"
      ]
    },
    {
      "cell_type": "code",
      "source": [
        "# get data of sentiment and reliabity score with tfidf_text for testing\n",
        "sentiment_score = news['sentiment_score']\n",
        "readability_score = news['readability_score']\n"
      ],
      "metadata": {
        "id": "Nivzsceztjgd"
      },
      "execution_count": 59,
      "outputs": []
    },
    {
      "cell_type": "code",
      "source": [
        "# install hstack\n",
        "from scipy.sparse import hstack"
      ],
      "metadata": {
        "id": "9NGnNeeAxbyZ"
      },
      "execution_count": 60,
      "outputs": []
    },
    {
      "cell_type": "code",
      "execution_count": 61,
      "metadata": {
        "id": "op1cUmGZyNu2",
        "colab": {
          "base_uri": "https://localhost:8080/"
        },
        "outputId": "22065777-e15b-41fd-d47f-4c772ea003a7"
      },
      "outputs": [
        {
          "output_type": "stream",
          "name": "stdout",
          "text": [
            "(39105, 122004)\n"
          ]
        }
      ],
      "source": [
        "# have tfidf_text , sentimental_score and reliablity_score in x and y for label\n",
        "x = hstack((tfidf_text, news[['sentiment_score', 'readability_score']].values))\n",
        "y = lable\n",
        "print(x.shape)\n",
        "\n"
      ]
    },
    {
      "cell_type": "code",
      "source": [
        "# split into test and train test\n",
        "from sklearn.model_selection import train_test_split\n",
        "x_train, x_test, y_train, y_test = train_test_split(x, y, test_size=0.2, random_state=42)"
      ],
      "metadata": {
        "id": "N-0lsDeUxq-P"
      },
      "execution_count": 62,
      "outputs": []
    },
    {
      "cell_type": "code",
      "execution_count": 63,
      "metadata": {
        "id": "rWtcCgK2eNxo",
        "colab": {
          "base_uri": "https://localhost:8080/"
        },
        "outputId": "5cc582ad-8c78-4dbb-836e-b44a43f9cc5d"
      },
      "outputs": [
        {
          "output_type": "stream",
          "name": "stdout",
          "text": [
            "Accuracy: 0.9817158931082982\n"
          ]
        },
        {
          "output_type": "stream",
          "name": "stderr",
          "text": [
            "/usr/local/lib/python3.10/dist-packages/sklearn/linear_model/_logistic.py:469: ConvergenceWarning: lbfgs failed to converge (status=1):\n",
            "STOP: TOTAL NO. of ITERATIONS REACHED LIMIT.\n",
            "\n",
            "Increase the number of iterations (max_iter) or scale the data as shown in:\n",
            "    https://scikit-learn.org/stable/modules/preprocessing.html\n",
            "Please also refer to the documentation for alternative solver options:\n",
            "    https://scikit-learn.org/stable/modules/linear_model.html#logistic-regression\n",
            "  n_iter_i = _check_optimize_result(\n"
          ]
        }
      ],
      "source": [
        "# try performing logical regression\n",
        "from sklearn.linear_model import LogisticRegression\n",
        "from sklearn.metrics import accuracy_score\n",
        "\n",
        "lr = LogisticRegression()\n",
        "lr.fit(x_train, y_train)\n",
        "y_pred = lr.predict(x_test)\n",
        "accuracy = accuracy_score(y_test, y_pred)\n",
        "print(\"Accuracy:\", accuracy)\n"
      ]
    },
    {
      "cell_type": "code",
      "source": [],
      "metadata": {
        "id": "BAD2EH27zRQq"
      },
      "execution_count": null,
      "outputs": []
    },
    {
      "cell_type": "code",
      "execution_count": 66,
      "metadata": {
        "id": "rGOcLMG50cbL"
      },
      "outputs": [],
      "source": [
        "# test the modle for fake news\n",
        "from sklearn.feature_extraction.text import TfidfVectorizer\n",
        "new_text = \"\"\"\n",
        "\n",
        "In his first statement on the worsening India-Canada ties, Prime Minister Narendra Modi on Monday \"strongly condemned\" the \"deliberate attack\" on a Hindu temple in Brampton, and slammed the Justin Trudeau administration's \"cowardly attempts\" to \"intimidate\" Indian diplomats.\n",
        "Standing up for Indians across the world, PM Modi's strong statement comes as India-Canada relations have hit a low point since the former withdrew its diplomats following allegations of violence against Sikh separatist Khalistani leaders on Canadian soil.\n",
        "\"I strongly condemn the deliberate attack on a Hindu temple in Canada. Equally appalling are the cowardly attempts to intimidate our diplomats. Such acts of violence will never weaken India’s resolve. We expect the Canadian government to ensure justice and uphold the rule of law,\" PM Modi posted on X.” Earlier, the MEA also condemned the attack on the Hindu Sabha Temple in Brampton, Ontario, reportedly carried out by alleged Sikh extremists, calling the incident \"deeply disturbing.\"\n",
        "\"We condemn the acts of violence perpetrated by extremists and separatists at the Hindu Sabha Temple in Brampton, Ontario yesterday. We call on the Government of Canada to ensure that all places of worship are protected from such attacks. We also expect that those indulging in violence will be prosecuted. We remain deeply concerned about the safety and security of Indian nationals in Canada. The outreach of our Consular officers to provide services to Indians and Canadian citizens alike will not be deterred by intimidation, harassment and violence,\" MEA spokesperson Randhir Jaiswal said.\n",
        "According to the community organisation Hindu Canadian Foundation, women and children were also attacked in the violent mob.\n",
        "Meanwhile, last month, India had protested Canada's decision to investigate the Indian High Commissioner and other diplomats as \"persons of interest\" likely in connection with the assassination of Hardeep Singh Nijjar, a Khalistani terrorist.\n",
        "It had firmly rejected Trudeau's allegations against its diplomats, labeling them as \"baseless\" and politically motivated. The MEA had accused Trudeau of exploiting anti-India rhetoric for domestic political gain, highlighting his previous associations with separatist elements.\"\"\"\n",
        "# extract the features out of  new_text and remove puncation and make it lower case\n",
        "\n",
        "\n",
        "# vectorize the new_text\n",
        "new_features = vectorizer.transform([new_text])\n",
        "new_sentiment_score = sid.polarity_scores(new_text)['compound']\n",
        "new_readability_score = flesch_reading_ease(new_text)\n"
      ]
    },
    {
      "cell_type": "code",
      "execution_count": 67,
      "metadata": {
        "id": "u5EC8r2zw_nC",
        "colab": {
          "base_uri": "https://localhost:8080/"
        },
        "outputId": "e261873a-ef24-48f9-8ebe-c4d02e4ed54a"
      },
      "outputs": [
        {
          "output_type": "stream",
          "name": "stdout",
          "text": [
            "This is a real news\n"
          ]
        }
      ],
      "source": [
        "# predict\n",
        "prediction = lr.predict(hstack((new_features, [[new_sentiment_score, new_readability_score]])))\n",
        "# gues if fake or real\n",
        "if prediction[0] == 0:\n",
        "    print(\"This is a fake news\")\n",
        "else:\n",
        "    print(\"This is a real news\")\n"
      ]
    }
  ],
  "metadata": {
    "colab": {
      "provenance": []
    },
    "kernelspec": {
      "display_name": "Python 3",
      "name": "python3"
    },
    "language_info": {
      "name": "python"
    }
  },
  "nbformat": 4,
  "nbformat_minor": 0
}